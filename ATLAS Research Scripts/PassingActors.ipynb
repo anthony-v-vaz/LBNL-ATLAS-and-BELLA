{
 "cells": [
  {
   "cell_type": "code",
   "execution_count": 43,
   "id": "5cbe52e9-c8a0-4c69-a49a-ab8dee842626",
   "metadata": {},
   "outputs": [
    {
     "name": "stdout",
     "output_type": "stream",
     "text": [
      "this is the actor identity \n",
      " Actor(Counter,992dfbb7cf0a9562ad3a874001000000)\n",
      "\n",
      " This prints the ID of workers \n",
      "\n",
      " [ObjectRef(2948f769827ca076ffffffffffffffffffffffff0100000001000000)]\n",
      "4\n"
     ]
    }
   ],
   "source": [
    "import ray\n",
    "import time\n",
    "#ray.init()\n",
    "@ray.remote\n",
    "class Counter(object):\n",
    "    def __init__(self):\n",
    "        self.value = 0\n",
    "\n",
    "    def increment(self):\n",
    "        time.sleep(1)\n",
    "        self.value += 1\n",
    "        return self.value\n",
    "\n",
    "    def get_counter(self):\n",
    "        return self.value\n",
    "    \n",
    "@ray.remote\n",
    "def f(counter):\n",
    "    _ = [counter.increment.remote() for _ in range(4)]\n",
    "\n",
    "        \n",
    "        \n",
    "counter = Counter.remote()\n",
    "print(\"this is the actor identity \\n\",counter)\n",
    "\n",
    "# Start some tasks that use the actor.\n",
    "y = [f.remote(counter)]\n",
    "print(\"\\n This prints the ID of workers \\n\\n\",y)\n",
    "\n",
    "# Print the counter value.\n",
    "#the program needs three seconds to compute before printing the result\n",
    "time.sleep(3)\n",
    "print(ray.get(counter.get_counter.remote()))"
   ]
  },
  {
   "cell_type": "code",
   "execution_count": 41,
   "id": "af027fcc-4a87-41c5-9a47-aa591f293934",
   "metadata": {},
   "outputs": [
    {
     "name": "stderr",
     "output_type": "stream",
     "text": [
      "/Users/smanthony/opt/anaconda3/lib/python3.7/site-packages/distributed/node.py:155: UserWarning: Port 8787 is already in use.\n",
      "Perhaps you already have a cluster running?\n",
      "Hosting the HTTP server on port 60756 instead\n",
      "  http_address[\"port\"], self.http_server.port\n"
     ]
    },
    {
     "name": "stdout",
     "output_type": "stream",
     "text": [
      "actor \n",
      " <Client: 'tcp://127.0.0.1:60757' processes=4 threads=4, memory=8.00 GiB>\n",
      "\n",
      " workers  [<Actor: Counter, key=Counter-f0905aa5-ace7-4dae-9dc8-573b2a6a8b44>]\n",
      "\n",
      " results [None]\n",
      "[<Actor: Counter, key=Counter-f0905aa5-ace7-4dae-9dc8-573b2a6a8b44>]\n",
      "\n",
      " this prints get_counter from increment \n",
      "\n",
      "4\n"
     ]
    }
   ],
   "source": [
    "import time\n",
    "import dask\n",
    "\n",
    "class Counter(object):\n",
    "    def __init__(self):\n",
    "        self.value = 0\n",
    "\n",
    "    def increment(self):\n",
    "        time.sleep(1)\n",
    "        self.value += 1\n",
    "        return self.value\n",
    "\n",
    "    def get_counter(self):\n",
    "        return self.value\n",
    "    \n",
    "    \n",
    "    \n",
    "def f(counter):\n",
    "    _ = [counter.increment().result() for _ in range(4)]\n",
    "\n",
    "\n",
    "from dask.distributed import Client\n",
    "\n",
    "client = Client()\n",
    "print(\"actor \\n\",client)\n",
    "\n",
    "# Start some tasks that use the actor.\n",
    "alist = [client.submit(Counter, actor=True).result()]\n",
    "print(\"\\n workers \",alist)\n",
    "\n",
    "results = [f(a) for a in alist]\n",
    "print(\"\\n results\", results)\n",
    "print(alist)\n",
    "print(\"\\n this prints get_counter from increment \\n\")\n",
    "print(alist[0].get_counter().result())\n",
    "    \n",
    "    "
   ]
  },
  {
   "cell_type": "code",
   "execution_count": null,
   "id": "1d7cc0cb-32af-431c-aeb7-3043768786b9",
   "metadata": {},
   "outputs": [],
   "source": []
  }
 ],
 "metadata": {
  "kernelspec": {
   "display_name": "Python 3",
   "language": "python",
   "name": "python3"
  },
  "language_info": {
   "codemirror_mode": {
    "name": "ipython",
    "version": 3
   },
   "file_extension": ".py",
   "mimetype": "text/x-python",
   "name": "python",
   "nbconvert_exporter": "python",
   "pygments_lexer": "ipython3",
   "version": "3.7.0"
  }
 },
 "nbformat": 4,
 "nbformat_minor": 5
}
