{
 "cells": [
  {
   "cell_type": "code",
   "execution_count": 2,
   "id": "f33699a8-7590-4f5b-9aa6-7e20d0adde54",
   "metadata": {},
   "outputs": [
    {
     "name": "stderr",
     "output_type": "stream",
     "text": [
      "C:\\Users\\lists\\AppData\\Local\\Packages\\PythonSoftwareFoundation.Python.3.9_qbz5n2kfra8p0\\LocalCache\\local-packages\\Python39\\site-packages\\distributed\\node.py:160: UserWarning: Port 8787 is already in use.\n",
      "Perhaps you already have a cluster running?\n",
      "Hosting the HTTP server on port 59999 instead\n",
      "  warnings.warn(\n"
     ]
    },
    {
     "name": "stdout",
     "output_type": "stream",
     "text": [
      "[<Future: pending, key: ping-8f82eac6a8e84070fa22339289a99f31>, <Future: pending, key: ping-ea794432829a39f974e0a0d0986ef891>, <Future: pending, key: ping-5ceb1883587a8d3a4da261ecbe50232a>, <Future: pending, key: ping-c7444eb2f7d6eb5f230923ef31f91552>, <Future: pending, key: ping-b0df416a389876261ccb3914f7f8929e>]\n",
      "<as_completed: waiting=5 done=0>\n",
      "actor4  returned event  15\n",
      "actor3  returned event  16\n",
      "actor2  returned event  17\n",
      "actor1  returned event  18\n",
      "actor0  returned event  19\n",
      "actor0  returned event  10\n",
      "actor2  returned event  12\n",
      "actor1  returned event  11\n",
      "actor3  returned event  13\n",
      "actor4  returned event  14\n",
      "actor4  returned event  5\n",
      "actor3  returned event  6\n",
      "actor1  returned event  7\n",
      "actor2  returned event  8\n",
      "actor0  returned event  9\n",
      "actor0  returned event  0\n",
      "DONE: event list is empty\n"
     ]
    }
   ],
   "source": [
    "#paolo's version\n",
    "import os\n",
    "import platform\n",
    "import dask\n",
    "import distributed\n",
    "import time\n",
    "from dask.distributed import Client, LocalCluster, as_completed\n",
    "\n",
    "###############################\n",
    "\n",
    "def ping(event,actor_id):\n",
    "    pid = os.getpid()\n",
    "    hostname = platform.node()\n",
    "    print(actor_id, pid, hostname,time.time(), \" - started event \", event)\n",
    "    time.sleep(event)\n",
    "    print(actor_id, pid, hostname,time.time(), \" - done with event \", event)\n",
    "\n",
    "    return  (actor_id, event)\n",
    "\n",
    "################################\n",
    "\n",
    "#create cluster w/ number workers\n",
    "cluster = LocalCluster(n_workers=5)\n",
    "client = Client(cluster)\n",
    "\n",
    "#create events for number of iterations\n",
    "events = [e for e in range(10)]\n",
    "\n",
    "#submit actors to ping function with args for id's\n",
    "actors = [client.submit(ping, event=events.pop(), actor_id=\"actor\" + str(a)) for a in range(5)]\n",
    "print(actors)\n",
    "\n",
    "################################\n",
    "\n",
    "time.sleep(1)\n",
    "\n",
    "################################\n",
    "\n",
    "#waits for first actor to be done with their task using as_completed\n",
    "seq = as_completed(actors)\n",
    "print(seq)\n",
    "\n",
    "#print actor, eliminate event of actor, return actor of said event back to ping function, \n",
    "#retire progam when all events are eliminated.\n",
    "for future in seq:\n",
    "    (actor, evtDone) = future.result()\n",
    "    print(actor, \" returned event \", evtDone)\n",
    "    time.sleep(1)\n",
    "    if events:\n",
    "        event = events.pop() \n",
    "        new_future = client.submit(ping, event, actor)\n",
    "        seq.add(new_future) # add back into the loop\n",
    "        time.sleep(1)\n",
    "    else:\n",
    "        print(\"DONE: event list is empty\")\n",
    "        break\n",
    "            \n",
    "    "
   ]
  }
 ],
 "metadata": {
  "kernelspec": {
   "display_name": "Python 3",
   "language": "python",
   "name": "python3"
  },
  "language_info": {
   "codemirror_mode": {
    "name": "ipython",
    "version": 3
   },
   "file_extension": ".py",
   "mimetype": "text/x-python",
   "name": "python",
   "nbconvert_exporter": "python",
   "pygments_lexer": "ipython3",
   "version": "3.7.0"
  }
 },
 "nbformat": 4,
 "nbformat_minor": 5
}
