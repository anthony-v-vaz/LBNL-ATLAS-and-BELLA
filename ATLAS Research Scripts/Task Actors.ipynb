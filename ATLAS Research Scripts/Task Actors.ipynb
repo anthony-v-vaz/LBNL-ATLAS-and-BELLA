{
 "cells": [
  {
   "cell_type": "code",
   "execution_count": 2,
   "id": "f1e30eab-5fc7-42fb-ac10-ed17e9a44419",
   "metadata": {},
   "outputs": [
    {
     "name": "stderr",
     "output_type": "stream",
     "text": [
      "2021-06-16 18:58:20,101\tINFO services.py:1317 -- View the Ray dashboard at \u001b[1m\u001b[32mhttp://127.0.0.1:8265\u001b[39m\u001b[22m\n",
      "2021-06-16 18:58:24,691\tWARNING worker.py:1121 -- WARNING: 12 PYTHON workers have been started on a node of the id: 3cff0c16568829b1666a7fe9ad5149ec5d651d6fe5630fc05f18c5c5 and address: 192.168.0.139. This could be a result of using a large number of actors, or it could be a consequence of using nested tasks (see https://github.com/ray-project/ray/issues/3644) for some a discussion of workarounds.\n"
     ]
    },
    {
     "name": "stdout",
     "output_type": "stream",
     "text": [
      "[1, 1, 1, 1, 1, 1, 1, 1, 1, 1]\n",
      "[2, 3, 4, 5, 6]\n"
     ]
    }
   ],
   "source": [
    "import ray\n",
    "\n",
    "ray.init(num_cpus = 4)\n",
    "@ray.remote\n",
    "class Counter(object):\n",
    "    def __init__(self):\n",
    "        self.value = 0\n",
    "\n",
    "    def increment(self):\n",
    "        self.value += 1\n",
    "        return self.value\n",
    "\n",
    "# Create ten Counter actors.\n",
    "counters = [Counter.remote() for _ in range(10)]\n",
    "\n",
    "# Increment each Counter once and get the results. These tasks all happen in\n",
    "# parallel.\n",
    "results = ray.get([c.increment.remote() for c in counters])\n",
    "print(results) \n",
    "\n",
    "# Increment the first Counter five times. These tasks are executed serially and share state.\n",
    "results = ray.get([counters[0].increment.remote() for _ in range(5)])\n",
    "print(results)  # prints [2, 3, 4, 5, 6]"
   ]
  },
  {
   "cell_type": "code",
   "execution_count": 1,
   "id": "71ce6d0a-a4d2-47eb-93ce-0c5bc35fe6ad",
   "metadata": {},
   "outputs": [
    {
     "name": "stderr",
     "output_type": "stream",
     "text": [
      "/Users/smanthony/opt/anaconda3/lib/python3.7/site-packages/distributed/node.py:155: UserWarning: Port 8787 is already in use.\n",
      "Perhaps you already have a cluster running?\n",
      "Hosting the HTTP server on port 60801 instead\n",
      "  http_address[\"port\"], self.http_server.port\n"
     ]
    },
    {
     "name": "stdout",
     "output_type": "stream",
     "text": [
      "[1, 1, 1, 1, 1, 1, 1, 1, 1, 1]\n",
      "[2, 3, 4, 5, 6]\n"
     ]
    }
   ],
   "source": [
    "class Counter(object):\n",
    "    def __init__(self):\n",
    "        self.value = 0\n",
    "   \n",
    "    def increment(self):\n",
    "        self.value += 1\n",
    "        return self.value\n",
    "\n",
    "from dask.distributed import Client\n",
    "\n",
    "client = Client()\n",
    "\n",
    "# Create 10 Actors, and call increment() once on each of them\n",
    "counters = [client.submit(Counter, actor=True).result() for _ in range(10)]\n",
    "results = [c.increment().result() for c in counters]\n",
    "print(results)\n",
    "\n",
    "# Call increment() 5 times on the first Actor in the list\n",
    "results = [counters[0].increment().result() for _ in range(5)]\n",
    "print(results)"
   ]
  },
  {
   "cell_type": "code",
   "execution_count": null,
   "id": "f084d5ad-0035-4c25-ada6-1b327498691d",
   "metadata": {
    "tags": []
   },
   "outputs": [],
   "source": [
    "class Counter(object):\n",
    "    def __init__(self):\n",
    "        self.value = 0\n",
    "   \n",
    "    def increment(self):\n",
    "        self.value += 1\n",
    "        return self.value\n",
    "\n",
    "\n",
    "from dask.distributed import Client\n",
    "\n",
    "client = Client()\n",
    "workers = []\n",
    "for _ in range(10):\n",
    "    future = client.submit(Counter, actor=True)  # Create a Counter on a worker\n",
    "    counter = future.result()                    # Get back a pointer to that object\n",
    "    future = counter.increment()\n",
    "    result = future.result() # Call remote method\n",
    "    workers.append(result)\n",
    "print(\"10 workers\", workers)\n",
    "\n",
    "result = []\n",
    "for _ in range(5):\n",
    "    future = counter.increment()\n",
    "    values = future.result()\n",
    "    result.append(values)\n",
    "print(\"Here is the list after 5 increments\\n\", result)"
   ]
  },
  {
   "cell_type": "code",
   "execution_count": null,
   "id": "bc6ef600-888a-4a0a-a0cc-933baf35e8f1",
   "metadata": {},
   "outputs": [],
   "source": []
  }
 ],
 "metadata": {
  "kernelspec": {
   "display_name": "Python 3",
   "language": "python",
   "name": "python3"
  },
  "language_info": {
   "codemirror_mode": {
    "name": "ipython",
    "version": 3
   },
   "file_extension": ".py",
   "mimetype": "text/x-python",
   "name": "python",
   "nbconvert_exporter": "python",
   "pygments_lexer": "ipython3",
   "version": "3.7.0"
  }
 },
 "nbformat": 4,
 "nbformat_minor": 5
}
