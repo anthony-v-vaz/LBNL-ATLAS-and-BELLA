{
 "cells": [
  {
   "cell_type": "code",
   "execution_count": 7,
   "id": "c547d957-6118-4421-bdbf-d68c6c9a3241",
   "metadata": {},
   "outputs": [
    {
     "name": "stdout",
     "output_type": "stream",
     "text": [
      "\u001b[2m\u001b[36m(pid=9244)\u001b[0m Running in sync function\n",
      "\u001b[2m\u001b[36m(pid=9244)\u001b[0m Done in sync function\n",
      "\u001b[2m\u001b[36m(pid=9244)\u001b[0m Self-killing\n",
      "raised The actor died unexpectedly before finishing this task.\n",
      "\u001b[2m\u001b[36m(pid=9272)\u001b[0m Running in sync function\n",
      "\u001b[2m\u001b[36m(pid=9272)\u001b[0m Done in sync function\n",
      "\u001b[2m\u001b[36m(pid=9272)\u001b[0m Self-killing\n",
      "raised The actor died unexpectedly before finishing this task.\n"
     ]
    }
   ],
   "source": [
    "import ray\n",
    "import time\n",
    "\n",
    "#ray.init()\n",
    "\n",
    "@ray.remote\n",
    "class SomeActor():\n",
    "\n",
    "    def function(self):\n",
    "        print(\"Running in sync function\")\n",
    "        time.sleep(2)\n",
    "        print(\"Done in sync function\")\n",
    "\n",
    "    async def function_async(self):\n",
    "        print(\"Running in sync function\")\n",
    "        await asyncio.sleep(2)\n",
    "        print(\"Done in sync function\")\n",
    "\n",
    "    def terminate(self):\n",
    "        print(\"Self-killing\")\n",
    "        ray.actor.exit_actor()\n",
    "\n",
    "for i in range(2):\n",
    "    try:\n",
    "        actor = SomeActor.remote()\n",
    "        second = actor.function.remote()\n",
    "        ray.get(actor.terminate.remote())\n",
    "        print(\"waiting for function\")\n",
    "        result = ray.get(second)\n",
    "        print(\"done\")\n",
    "    except Exception as e:\n",
    "        print(f\"raised {e}\")"
   ]
  },
  {
   "cell_type": "code",
   "execution_count": 2,
   "id": "f85471fa-ef4a-482d-9f4c-2266fdc0e7c3",
   "metadata": {},
   "outputs": [
    {
     "name": "stderr",
     "output_type": "stream",
     "text": [
      "/Users/smanthony/opt/anaconda3/lib/python3.7/site-packages/distributed/node.py:155: UserWarning: Port 8787 is already in use.\n",
      "Perhaps you already have a cluster running?\n",
      "Hosting the HTTP server on port 52051 instead\n",
      "  http_address[\"port\"], self.http_server.port\n"
     ]
    },
    {
     "name": "stdout",
     "output_type": "stream",
     "text": [
      "raised This event loop is already running\n",
      "raised This event loop is already running\n"
     ]
    },
    {
     "name": "stderr",
     "output_type": "stream",
     "text": [
      "Task exception was never retrieved\n",
      "future: <Task finished coro=<test() done, defined at <ipython-input-2-ad645f6adfb1>:25> exception=AttributeError(\"'function' object has no attribute 'function_async'\")>\n",
      "Traceback (most recent call last):\n",
      "  File \"<ipython-input-2-ad645f6adfb1>\", line 26, in test\n",
      "    fut = kill.function_async().result()\n",
      "AttributeError: 'function' object has no attribute 'function_async'\n",
      "Task exception was never retrieved\n",
      "future: <Task finished coro=<test() done, defined at <ipython-input-2-ad645f6adfb1>:25> exception=AttributeError(\"'function' object has no attribute 'function_async'\")>\n",
      "Traceback (most recent call last):\n",
      "  File \"<ipython-input-2-ad645f6adfb1>\", line 26, in test\n",
      "    fut = kill.function_async().result()\n",
      "AttributeError: 'function' object has no attribute 'function_async'\n"
     ]
    }
   ],
   "source": [
    "import ray\n",
    "import time\n",
    "\n",
    "#ray.init()\n",
    "\n",
    "\n",
    "class SomeActor():\n",
    "\n",
    "    def function(self):\n",
    "        print(\"Running in sync function\")\n",
    "        time.sleep(2)\n",
    "        print(\"Done in sync function\")\n",
    "\n",
    "    async def function_async(self):\n",
    "        print(\"Running in sync function\")\n",
    "        await asyncio.sleep(2)\n",
    "        print(\"Done in sync function\")\n",
    "\n",
    "    def terminate(self):\n",
    "        print(\"Self-killing\")\n",
    "\n",
    "for i in range(2):\n",
    "    try:\n",
    "        actor = SomeActor.remote()\n",
    "        second = actor.function.remote()\n",
    "        ray.get(actor.terminate.remote())\n",
    "        print(\"waiting for function\")\n",
    "        result = ray.get(second)\n",
    "        print(\"done\")\n",
    "    except Exception as e:\n",
    "        print(f\"raised {e}\")"
   ]
  },
  {
   "cell_type": "code",
   "execution_count": null,
   "id": "62f83f71-8005-4d93-9c85-60b8ef0f66c3",
   "metadata": {},
   "outputs": [],
   "source": [
    "\n"
   ]
  },
  {
   "cell_type": "code",
   "execution_count": null,
   "id": "5988256a-c03f-41ea-b63a-e2e1ef3298d5",
   "metadata": {},
   "outputs": [],
   "source": []
  },
  {
   "cell_type": "code",
   "execution_count": 1,
   "id": "b7044911-9920-4dad-8538-4196ae5f04b3",
   "metadata": {},
   "outputs": [],
   "source": [
    "#this is for the actor handles\n"
   ]
  },
  {
   "cell_type": "code",
   "execution_count": 6,
   "id": "cd59c46c-9619-47b9-ba24-6804019773c6",
   "metadata": {},
   "outputs": [
    {
     "name": "stdout",
     "output_type": "stream",
     "text": [
      "Actor(Counter,6cdd55a130cc605b632cafbb01000000)\n",
      "[ObjectRef(b4bba3bd025ddc5effffffffffffffffffffffff0100000001000000), ObjectRef(d5a75db31f99bd73ffffffffffffffffffffffff0100000001000000), ObjectRef(d68fec326c8433c9ffffffffffffffffffffffff0100000001000000)]\n",
      "18\n",
      "44\n",
      "72\n",
      "102\n",
      "131\n",
      "159\n",
      "189\n",
      "218\n",
      "246\n",
      "276\n"
     ]
    }
   ],
   "source": [
    "import ray\n",
    "import time\n",
    "#ray.init()\n",
    "@ray.remote\n",
    "class Counter(object):\n",
    "    def __init__(self):\n",
    "        self.value = 0\n",
    "\n",
    "    def increment(self):\n",
    "        self.value += 1\n",
    "        return self.value\n",
    "\n",
    "    def get_counter(self):\n",
    "        return self.value\n",
    "    \n",
    "@ray.remote\n",
    "def f(counter):\n",
    "    for _ in range(1000):\n",
    "        time.sleep(0.1)\n",
    "        counter.increment.remote()\n",
    "        \n",
    "counter = Counter.remote()\n",
    "print(counter)\n",
    "# Start some tasks that use the actor.\n",
    "y = [f.remote(counter) for _ in range(3)]\n",
    "print(y)\n",
    "\n",
    "# Print the counter value.\n",
    "for _ in range(10):\n",
    "    time.sleep(1)\n",
    "    print(ray.get(counter.get_counter.remote()))"
   ]
  },
  {
   "cell_type": "code",
   "execution_count": 4,
   "id": "b09db1d4-77f2-477e-ac38-9e526cdc276c",
   "metadata": {},
   "outputs": [],
   "source": [
    "import dask\n",
    "import time\n",
    "class Counter(object):\n",
    "    def __init__(self):\n",
    "        self.value = 0\n",
    "   \n",
    "    def increment(self):\n",
    "        self.value += 1\n",
    "        return self.value\n",
    "    \n",
    "    def get_counter(self):\n",
    "        return self.value\n",
    "    \n",
    "def f(counter):\n",
    "    for _ in range(1000):\n",
    "        time.sleep(0.1)\n",
    "        counter.increment().result()\n",
    "    \n",
    "from dask.distributed import Client\n",
    "\n",
    "client = Client()\n",
    "\n",
    "# Create 10 Actors, and call increment() once on each of them\n",
    "alist = [client.submit(Counter, actor=True).result() for _ in range(3)]\n",
    "results = [f(a) for a in alist]\n",
    "\n",
    "# for _ in range(10):\n",
    "#     time.sleep(1)\n",
    "# #     print(dask.compute(counter.get_counter().result()))\n",
    "\n",
    "#results = [c.f().result() for c in counters]\n",
    "# print(results)\n",
    "\n",
    "# # Call increment() 5 times on the first Actor in the list\n",
    "# results = [counters[0].increment().result() for _ in range(5)]\n",
    "# print(results)"
   ]
  },
  {
   "cell_type": "code",
   "execution_count": null,
   "id": "98516dd3-d8d1-4642-a48b-f8173c7a6d46",
   "metadata": {},
   "outputs": [],
   "source": []
  }
 ],
 "metadata": {
  "kernelspec": {
   "display_name": "Python 3",
   "language": "python",
   "name": "python3"
  },
  "language_info": {
   "codemirror_mode": {
    "name": "ipython",
    "version": 3
   },
   "file_extension": ".py",
   "mimetype": "text/x-python",
   "name": "python",
   "nbconvert_exporter": "python",
   "pygments_lexer": "ipython3",
   "version": "3.7.0"
  }
 },
 "nbformat": 4,
 "nbformat_minor": 5
}
