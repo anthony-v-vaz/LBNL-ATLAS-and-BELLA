{
 "cells": [
  {
   "cell_type": "code",
   "execution_count": 15,
   "id": "d3cddfeb-684c-4a3d-aa1d-24ce86c44fca",
   "metadata": {},
   "outputs": [
    {
     "name": "stdout",
     "output_type": "stream",
     "text": [
      "\u001b[2m\u001b[36m(pid=5205)\u001b[0m started\n",
      "\u001b[2m\u001b[36m(pid=5205)\u001b[0m started\n",
      "\u001b[2m\u001b[36m(pid=5205)\u001b[0m started\n",
      "\u001b[2m\u001b[36m(pid=5205)\u001b[0m started\n",
      "\u001b[2m\u001b[36m(pid=5205)\u001b[0m finished\n",
      "\u001b[2m\u001b[36m(pid=5205)\u001b[0m finished\n",
      "\u001b[2m\u001b[36m(pid=5205)\u001b[0m finished\n",
      "\u001b[2m\u001b[36m(pid=5205)\u001b[0m finished\n",
      "\u001b[2m\u001b[36m(pid=5205)\u001b[0m started\n",
      "\u001b[2m\u001b[36m(pid=5205)\u001b[0m finished\n"
     ]
    }
   ],
   "source": [
    "import ray\n",
    "import asyncio\n",
    "#ray.init()\n",
    "\n",
    "@ray.remote\n",
    "class AsyncActor:\n",
    "    # multiple invocation of this method can be running in\n",
    "    # the event loop at the same time\n",
    "    async def run_concurrent(self):\n",
    "        print(\"started\")\n",
    "        await asyncio.sleep(2) # concurrent workload here\n",
    "        print(\"finished\")\n",
    "\n",
    "actor = AsyncActor.remote()\n",
    "\n",
    "# regular ray.get\n",
    "ray.get([actor.run_concurrent.remote() for _ in range(4)])\n",
    "\n",
    "# async ray.get\n",
    "await actor.run_concurrent.remote()"
   ]
  },
  {
   "cell_type": "code",
   "execution_count": null,
   "id": "8d788bcf-5710-41a8-918d-02b82917bfb1",
   "metadata": {},
   "outputs": [
    {
     "name": "stderr",
     "output_type": "stream",
     "text": [
      "/Users/smanthony/opt/anaconda3/lib/python3.7/site-packages/distributed/node.py:155: UserWarning: Port 8787 is already in use.\n",
      "Perhaps you already have a cluster running?\n",
      "Hosting the HTTP server on port 56504 instead\n",
      "  http_address[\"port\"], self.http_server.port\n"
     ]
    }
   ],
   "source": [
    "import asyncio\n",
    "class AsyncActor:\n",
    "    # multiple invocation of this method can be running in\n",
    "    # the event loop at the same time\n",
    "    async def run_concurrent(self):\n",
    "        print(\"started\")\n",
    "        await asyncio.sleep(2) # concurrent workload here\n",
    "        print(\"finished\")\n",
    "        \n",
    "from dask.distributed import Client\n",
    "\n",
    "client = Client()\n",
    "\n",
    "counters = [client.submit(AsyncActor, actor=True).result() for _ in range(4)]\n",
    "results = [c.run_concurrent().result() for c in counters]\n",
    "results"
   ]
  },
  {
   "cell_type": "code",
   "execution_count": null,
   "id": "b68b20cd-9ac6-49cc-9707-17d0eca6a59e",
   "metadata": {},
   "outputs": [],
   "source": []
  }
 ],
 "metadata": {
  "kernelspec": {
   "display_name": "Python 3",
   "language": "python",
   "name": "python3"
  },
  "language_info": {
   "codemirror_mode": {
    "name": "ipython",
    "version": 3
   },
   "file_extension": ".py",
   "mimetype": "text/x-python",
   "name": "python",
   "nbconvert_exporter": "python",
   "pygments_lexer": "ipython3",
   "version": "3.7.0"
  }
 },
 "nbformat": 4,
 "nbformat_minor": 5
}
