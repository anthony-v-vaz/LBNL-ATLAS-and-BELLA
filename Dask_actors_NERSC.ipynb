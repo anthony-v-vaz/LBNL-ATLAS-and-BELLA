{
 "cells": [
  {
   "cell_type": "code",
   "execution_count": 1,
   "id": "f33699a8-7590-4f5b-9aa6-7e20d0adde54",
   "metadata": {},
   "outputs": [],
   "source": [
    "\n",
    "import os\n",
    "import platform\n",
    "import dask\n",
    "import distributed\n",
    "import time\n",
    "from dask.distributed import Client, LocalCluster, as_completed\n",
    "from random import *\n",
    "class ESWorker:\n",
    "    \"\"\" A simple class representing an athena event worker \"\"\"\n",
    "    n = 0\n",
    "    myid = 0\n",
    "    buffer = list(range(100000)) #add some baggage to the object\n",
    "\n",
    "    def __init__(self, id, buffer):\n",
    "        self.n = 0\n",
    "        self.myid = id\n",
    "        self.buffer = buffer\n",
    "        print(\"Worker constructor for \", self, \" id \", self.myid, flush=True)\n",
    "    def id(self):\n",
    "        return self.myid\n",
    "    \n",
    "    def processed(self):\n",
    "        return self.n\n",
    "\n",
    "    def increment(self):\n",
    "        self.n += 1\n",
    "        return self.n\n",
    "    \n",
    "    def processEvent(self, event):\n",
    "        soFar = self.increment()\n",
    "        #do something\n",
    "#         for i in range(10000):\n",
    "#             self.buffer.pop()\n",
    "#         if ((event == 17 or event == 13) and random() < 0.5):\n",
    "#             print(event, \" is not a lucky number\")\n",
    "#             raise EventException(event,self) \n",
    "        pid = os.getpid()\n",
    "        hostname = platform.node()    \n",
    "        print(pid, hostname,time.time(), \"Worker \", self, self.id(), \" done with event \", event, \"! \",\n",
    "              self.processed(), \" events done so far\", flush=True)\n",
    "        return(self, event)\n",
    "        \n",
    "class EventException(Exception):\n",
    "       def __init__(self, event, worker):\n",
    "            self.event = event\n",
    "            self.worker = worker\n",
    "            \n",
    "        \n",
    "def processEvent(event,worker):\n",
    "    pid = os.getpid()\n",
    "    hostname = platform.node()\n",
    "    print(pid, hostname, time.time(), \" calling processEvent on Worker \", worker.id(), flush=True)\n",
    "    #(w, e) = (worker.processEvent(event)).result()\n",
    "    (w, e) = (worker.processEvent(event))\n",
    "    print(pid, hostname, time.time(), \" done with processEvent on Worker \", w.id(), flush=True)\n",
    "    return (w, e) \n",
    "\n"
   ]
  },
  {
   "cell_type": "code",
   "execution_count": 2,
   "id": "ccea5c60",
   "metadata": {},
   "outputs": [
    {
     "name": "stdout",
     "output_type": "stream",
     "text": [
      "6(6, 'tcp://127.0.0.1:36219', workers=4, threads=8, memory=7.63 GiB)\n",
      "<Client: 'tcp://127.0.0.1:36219' processes=4 threads=8, memory=7.63 GiB>\n"
     ]
    }
   ],
   "source": [
    "# n_slots=3\n",
    "# n_workers=n_slots\n",
    "# cluster = LocalCluster('10.128.1.22:34423',n_workers + n_slots)\n",
    "# print(cluster)\n",
    "# client = Client(cluster)\n",
    "\n",
    "# print(client)\n"
   ]
  },
  {
   "cell_type": "code",
   "execution_count": null,
   "id": "c1a49667-a4f9-4f80-9a51-b810b8242bb6",
   "metadata": {},
   "outputs": [],
   "source": [
    "#run this block if you are running this program in Cori after these inputs:\n",
    "'''\n",
    "cd $SCRATCH\n",
    "module load nersc-dask\n",
    "start-dask-mpi --ntasks=256 --image=stephey/nersc-dask-example:v0.6.0\n",
    "'''\n",
    "\n",
    "scheduler_file = os.path. join(os.environ[\"SCRATCH\"], \"scheduler.json\")\n",
    "dask.config.config[\"distributed\"][\"dashboard\"][\"link\"] = \"{JUPYTERHUB_SERVICE_PREFIX}proxy/{host}:{port}/status\"\n",
    "\n",
    "n_slots = 3\n",
    "client = Client(scheduler_file=\"scheduler.json\") \n",
    "print(client)"
   ]
  },
  {
   "cell_type": "code",
   "execution_count": 3,
   "id": "5efb0829",
   "metadata": {},
   "outputs": [
    {
     "name": "stdout",
     "output_type": "stream",
     "text": [
      "[0, 1, 2, 3, 4, 5, 6, 7, 8, 9, 10, 11, 12, 13, 14, 15, 16, 17, 18, 19]\n"
     ]
    }
   ],
   "source": [
    "events=[e for e in range(20)]\n",
    "print(events)\n"
   ]
  },
  {
   "cell_type": "code",
   "execution_count": 4,
   "id": "86b45a16",
   "metadata": {
    "scrolled": true
   },
   "outputs": [
    {
     "name": "stdout",
     "output_type": "stream",
     "text": [
      "Worker constructor for  <__main__.ESWorker object at 0x7f4770063be0>  id  0\n",
      "Worker constructor for  <__main__.ESWorker object at 0x7f4770063d30>  id  1\n",
      "Worker constructor for  <__main__.ESWorker object at 0x7f47700633d0>  id  2\n",
      "[<__main__.ESWorker object at 0x7f4770063be0>, <__main__.ESWorker object at 0x7f4770063d30>, <__main__.ESWorker object at 0x7f47700633d0>]\n"
     ]
    }
   ],
   "source": [
    "#workers = client.submit(ESWorker, 88)\n",
    "#workers = [client.submit(ESWorker, w, actor=True) for w in range(n_workers)]\n",
    "#workers = client.map(ESWorker, range(n_workers), key=\"ESworker\", actor=True)\n",
    "something=list(range(10000000))\n",
    "workers = [ESWorker(w, something) for w in range(n_slots)]\n",
    "print(workers)\n"
   ]
  },
  {
   "cell_type": "code",
   "execution_count": 5,
   "id": "8a479f52",
   "metadata": {
    "scrolled": true
   },
   "outputs": [
    {
     "name": "stderr",
     "output_type": "stream",
     "text": [
      "/home/calaf/.local/lib/python3.8/site-packages/distributed/worker.py:3801: UserWarning: Large object of size 47.94 MiB detected in task graph: \n",
      "  (19, <__main__.ESWorker object at 0x7f4770063be0>)\n",
      "Consider scattering large objects ahead of time\n",
      "with client.scatter to reduce scheduler burden and \n",
      "keep data on workers\n",
      "\n",
      "    future = client.submit(func, big_data)    # bad\n",
      "\n",
      "    big_future = client.scatter(big_data)     # good\n",
      "    future = client.submit(func, big_future)  # good\n",
      "  warnings.warn(\n"
     ]
    },
    {
     "name": "stdout",
     "output_type": "stream",
     "text": [
      "[<Future: pending, key: slot-7596ef3e5e7cd1353ae1bb1938719be1>, <Future: pending, key: slot-58c483360c42919c5d2e39152a387c0c>, <Future: pending, key: slot-1c2e3dfc3f856a6467fe1562a2746a2a>]\n",
      "[0, 1, 2, 3, 4, 5, 6, 7, 8, 9, 10, 11, 12, 13, 14, 15, 16]\n"
     ]
    }
   ],
   "source": [
    "#slots = [client.submit(processEvent, event=events.pop(), worker=workers.pop()) for s in range(n_slots)]\n",
    "slots = client.map(processEvent, [events.pop() for s in range(n_slots)] , workers, key=\"slot\")\n",
    "# print(slots)\n",
    "# print(events)\n"
   ]
  },
  {
   "cell_type": "code",
   "execution_count": 6,
   "id": "42fa53dc",
   "metadata": {},
   "outputs": [
    {
     "name": "stdout",
     "output_type": "stream",
     "text": [
      "<as_completed: waiting=3 done=0>\n"
     ]
    }
   ],
   "source": [
    "seq = as_completed(slots)\n",
    "print(seq)\n",
    "\n",
    "   "
   ]
  },
  {
   "cell_type": "code",
   "execution_count": 7,
   "id": "7df3a7dc",
   "metadata": {},
   "outputs": [
    {
     "name": "stdout",
     "output_type": "stream",
     "text": [
      "3292 DESKTOP-E5D74QR 1627406191.7991512  calling processEvent on Worker  1\n",
      "3292 DESKTOP-E5D74QR 1627406191.8016517 Worker  <__main__.ESWorker object at 0x7f111c2a5ac0> 1  done with event  18 !  1  events done so far\n",
      "3292 DESKTOP-E5D74QR 1627406191.8017023  done with processEvent on Worker  1\n",
      "3297 DESKTOP-E5D74QR 1627406191.8135426  calling processEvent on Worker  0\n",
      "3297 DESKTOP-E5D74QR 1627406191.8148468 Worker  <__main__.ESWorker object at 0x7fb5ba29edc0> 0  done with event  19 !  1  events done so far\n",
      "3297 DESKTOP-E5D74QR 1627406191.814909  done with processEvent on Worker  0\n",
      "3294 DESKTOP-E5D74QR 1627406191.883126  calling processEvent on Worker  2\n",
      "3294 DESKTOP-E5D74QR 1627406191.8853793 Worker  <__main__.ESWorker object at 0x7f9844d461f0> 2  done with event  17 !  1  events done so far\n",
      "3294 DESKTOP-E5D74QR 1627406191.8854632  done with processEvent on Worker  2\n",
      "3273 DESKTOP-E5D74QR 1627406192.6289296 1  returned event  18\n",
      "<as_completed: waiting=0 done=2>\n",
      "3300 DESKTOP-E5D74QR 1627406193.323126  calling processEvent on Worker  1\n",
      "3300 DESKTOP-E5D74QR 1627406193.3237715 Worker  <__main__.ESWorker object at 0x7f4218ba0df0> 1  done with event  16 !  2  events done so far\n",
      "3300 DESKTOP-E5D74QR 1627406193.3238006  done with processEvent on Worker  1\n",
      "3273 DESKTOP-E5D74QR 1627406193.6080098 0  returned event  19\n",
      "<as_completed: waiting=0 done=2>\n",
      "3297 DESKTOP-E5D74QR 1627406194.2488043  calling processEvent on Worker  0\n",
      "3297 DESKTOP-E5D74QR 1627406194.2496622 Worker  <__main__.ESWorker object at 0x7fb5bb378610> 0  done with event  15 !  2  events done so far\n",
      "3297 DESKTOP-E5D74QR 1627406194.2496874  done with processEvent on Worker  0\n",
      "3273 DESKTOP-E5D74QR 1627406194.5644727 2  returned event  17\n",
      "<as_completed: waiting=1 done=1>\n",
      "3292 DESKTOP-E5D74QR 1627406195.2271817  calling processEvent on Worker  2\n",
      "3292 DESKTOP-E5D74QR 1627406195.2277966 Worker  <__main__.ESWorker object at 0x7f111cba84f0> 2  done with event  14 !  2  events done so far\n",
      "3292 DESKTOP-E5D74QR 1627406195.227822  done with processEvent on Worker  2\n",
      "3273 DESKTOP-E5D74QR 1627406195.450063 1  returned event  16\n",
      "<as_completed: waiting=0 done=2>\n",
      "3294 DESKTOP-E5D74QR 1627406196.1225219  calling processEvent on Worker  1\n",
      "3294 DESKTOP-E5D74QR 1627406196.1237514 Worker  <__main__.ESWorker object at 0x7f985e1c2c70> 1  done with event  13 !  3  events done so far\n",
      "3294 DESKTOP-E5D74QR 1627406196.1237907  done with processEvent on Worker  1\n",
      "3273 DESKTOP-E5D74QR 1627406196.203194 0  returned event  15\n",
      "<as_completed: waiting=0 done=2>\n",
      "3300 DESKTOP-E5D74QR 1627406197.0014584  calling processEvent on Worker  0\n",
      "3300 DESKTOP-E5D74QR 1627406197.0028129 Worker  <__main__.ESWorker object at 0x7f4219c22d00> 0  done with event  12 !  3  events done so far\n",
      "3300 DESKTOP-E5D74QR 1627406197.0028708  done with processEvent on Worker  0\n",
      "3273 DESKTOP-E5D74QR 1627406197.2948952 2  returned event  14\n",
      "<as_completed: waiting=1 done=1>\n",
      "3297 DESKTOP-E5D74QR 1627406198.0879762  calling processEvent on Worker  2\n",
      "3297 DESKTOP-E5D74QR 1627406198.0888586 Worker  <__main__.ESWorker object at 0x7fb5bb378eb0> 2  done with event  11 !  3  events done so far\n",
      "3297 DESKTOP-E5D74QR 1627406198.088879  done with processEvent on Worker  2\n",
      "3273 DESKTOP-E5D74QR 1627406198.276403 1  returned event  13\n",
      "<as_completed: waiting=1 done=1>\n",
      "3292 DESKTOP-E5D74QR 1627406199.1162455  calling processEvent on Worker  1\n",
      "3292 DESKTOP-E5D74QR 1627406199.1174939 Worker  <__main__.ESWorker object at 0x7f111c2a52b0> 1  done with event  10 !  4  events done so far\n",
      "3292 DESKTOP-E5D74QR 1627406199.11752  done with processEvent on Worker  1\n",
      "3273 DESKTOP-E5D74QR 1627406199.3784525 0  returned event  12\n",
      "<as_completed: waiting=0 done=2>\n",
      "3294 DESKTOP-E5D74QR 1627406200.3872058  calling processEvent on Worker  0\n",
      "3294 DESKTOP-E5D74QR 1627406200.3877702 Worker  <__main__.ESWorker object at 0x7f985e1c2b50> 0  done with event  9 !  4  events done so far\n",
      "3294 DESKTOP-E5D74QR 1627406200.3877838  done with processEvent on Worker  0\n",
      "3273 DESKTOP-E5D74QR 1627406200.5368755 2  returned event  11\n",
      "<as_completed: waiting=1 done=1>\n",
      "3300 DESKTOP-E5D74QR 1627406201.4133604  calling processEvent on Worker  2\n",
      "3300 DESKTOP-E5D74QR 1627406201.4139943 Worker  <__main__.ESWorker object at 0x7f4219c22ee0> 2  done with event  8 !  4  events done so far\n",
      "3300 DESKTOP-E5D74QR 1627406201.4140086  done with processEvent on Worker  2\n",
      "3273 DESKTOP-E5D74QR 1627406201.6771498 1  returned event  10\n",
      "<as_completed: waiting=1 done=1>\n",
      "3297 DESKTOP-E5D74QR 1627406202.456029  calling processEvent on Worker  1\n",
      "3297 DESKTOP-E5D74QR 1627406202.4570847 Worker  <__main__.ESWorker object at 0x7fb5ba29ed30> 1  done with event  7 !  5  events done so far\n",
      "3297 DESKTOP-E5D74QR 1627406202.4571013  done with processEvent on Worker  1\n",
      "3273 DESKTOP-E5D74QR 1627406202.5393295 0  returned event  9\n",
      "<as_completed: waiting=0 done=2>\n",
      "3292 DESKTOP-E5D74QR 1627406203.1670394  calling processEvent on Worker  0\n",
      "3292 DESKTOP-E5D74QR 1627406203.167608 Worker  <__main__.ESWorker object at 0x7f111cba84f0> 0  done with event  6 !  5  events done so far\n",
      "3292 DESKTOP-E5D74QR 1627406203.1676219  done with processEvent on Worker  0\n",
      "3273 DESKTOP-E5D74QR 1627406203.296214 2  returned event  8\n",
      "<as_completed: waiting=1 done=1>\n",
      "3294 DESKTOP-E5D74QR 1627406203.9298265  calling processEvent on Worker  2\n",
      "3294 DESKTOP-E5D74QR 1627406203.9305742 Worker  <__main__.ESWorker object at 0x7f985e1c2190> 2  done with event  5 !  5  events done so far\n",
      "3294 DESKTOP-E5D74QR 1627406203.9305923  done with processEvent on Worker  2\n",
      "3273 DESKTOP-E5D74QR 1627406204.1552048 1  returned event  7\n",
      "<as_completed: waiting=1 done=1>\n",
      "3300 DESKTOP-E5D74QR 1627406204.7968864  calling processEvent on Worker  1\n",
      "3300 DESKTOP-E5D74QR 1627406204.7975278 Worker  <__main__.ESWorker object at 0x7f4218ba0fd0> 1  done with event  4 !  6  events done so far\n",
      "3300 DESKTOP-E5D74QR 1627406204.7975438  done with processEvent on Worker  1\n",
      "3273 DESKTOP-E5D74QR 1627406204.9330711 0  returned event  6\n",
      "<as_completed: waiting=0 done=2>\n",
      "3297 DESKTOP-E5D74QR 1627406205.6134143  calling processEvent on Worker  0\n",
      "3297 DESKTOP-E5D74QR 1627406205.6140442 Worker  <__main__.ESWorker object at 0x7fb5ba29ebe0> 0  done with event  3 !  6  events done so far\n",
      "3297 DESKTOP-E5D74QR 1627406205.6140606  done with processEvent on Worker  0\n",
      "3273 DESKTOP-E5D74QR 1627406205.7847462 2  returned event  5\n",
      "<as_completed: waiting=0 done=2>\n",
      "3292 DESKTOP-E5D74QR 1627406206.3766482  calling processEvent on Worker  2\n",
      "3292 DESKTOP-E5D74QR 1627406206.377198 Worker  <__main__.ESWorker object at 0x7f1115eacfd0> 2  done with event  2 !  6  events done so far\n",
      "3292 DESKTOP-E5D74QR 1627406206.3772128  done with processEvent on Worker  2\n",
      "3273 DESKTOP-E5D74QR 1627406206.566171 1  returned event  4\n",
      "<as_completed: waiting=0 done=2>\n",
      "3294 DESKTOP-E5D74QR 1627406207.2292984  calling processEvent on Worker  1\n",
      "3294 DESKTOP-E5D74QR 1627406207.229877 Worker  <__main__.ESWorker object at 0x7f985e1c2c70> 1  done with event  1 !  7  events done so far\n",
      "3294 DESKTOP-E5D74QR 1627406207.2298994  done with processEvent on Worker  1\n",
      "3273 DESKTOP-E5D74QR 1627406207.403342 0  returned event  3\n",
      "<as_completed: waiting=0 done=2>\n",
      "3300 DESKTOP-E5D74QR 1627406208.0219467  calling processEvent on Worker  0\n",
      "3300 DESKTOP-E5D74QR 1627406208.0225964 Worker  <__main__.ESWorker object at 0x7f4218ba0be0> 0  done with event  0 !  7  events done so far\n",
      "3300 DESKTOP-E5D74QR 1627406208.0226119  done with processEvent on Worker  0\n",
      "3273 DESKTOP-E5D74QR 1627406208.137619 2  returned event  2\n",
      "<as_completed: waiting=0 done=2>\n",
      "3273 DESKTOP-E5D74QR 1627406208.6147404 1  returned event  1\n",
      "<as_completed: waiting=0 done=1>\n",
      "3273 DESKTOP-E5D74QR 1627406209.1918707 0  returned event  0\n",
      "<as_completed: waiting=0 done=0>\n"
     ]
    }
   ],
   "source": [
    "pid = os.getpid()\n",
    "hostname = platform.node()\n",
    "for slot in seq:\n",
    "    try:\n",
    "        (workerDone, evtDone) = slot.result()\n",
    "        print(pid, hostname, time.time(), workerDone.id(), \" returned event \", evtDone, flush=True)\n",
    "    except EventException as ee:\n",
    "        workerDone=ee.worker\n",
    "        print(\"mmmhhh worker \", workerDone.id(),\" lost event \", ee.event) #how would we try it again?\n",
    "    \n",
    "    print(seq)\n",
    "\n",
    "    #if more events left add actors back into the loop \n",
    "    if events:\n",
    "        # add worker that just returned back into the loop\n",
    "        seq.add(client.submit(processEvent, events.pop(), workerDone))\n"
   ]
  },
  {
   "cell_type": "code",
   "execution_count": 8,
   "id": "8f8865eb",
   "metadata": {},
   "outputs": [
    {
     "name": "stdout",
     "output_type": "stream",
     "text": [
      "<__main__.ESWorker object at 0x7f47186e72e0> 0 7\n",
      "[<__main__.ESWorker object at 0x7f4770063be0>, <__main__.ESWorker object at 0x7f4770063d30>, <__main__.ESWorker object at 0x7f47700633d0>]\n",
      "DONE: event list is empty. Events processed by each worker  [0, 0, 0]\n"
     ]
    }
   ],
   "source": [
    "print(workerDone, workerDone.id(), workerDone.processed())\n",
    "print(workers)\n",
    "#wrap up        \n",
    "if not events:\n",
    "    print(\"DONE: event list is empty. Events processed by each worker \", list(map(ESWorker.processed, workers)))\n",
    "else:\n",
    "    print(\"ERROR: event list not empty! \", events)"
   ]
  },
  {
   "cell_type": "code",
   "execution_count": null,
   "id": "548bc567",
   "metadata": {},
   "outputs": [],
   "source": []
  },
  {
   "cell_type": "code",
   "execution_count": null,
   "id": "982b5d23",
   "metadata": {},
   "outputs": [],
   "source": []
  }
 ],
 "metadata": {
  "kernelspec": {
   "display_name": "Python 3",
   "language": "python",
   "name": "python3"
  },
  "language_info": {
   "codemirror_mode": {
    "name": "ipython",
    "version": 3
   },
   "file_extension": ".py",
   "mimetype": "text/x-python",
   "name": "python",
   "nbconvert_exporter": "python",
   "pygments_lexer": "ipython3",
   "version": "3.7.4"
  }
 },
 "nbformat": 4,
 "nbformat_minor": 5
}
