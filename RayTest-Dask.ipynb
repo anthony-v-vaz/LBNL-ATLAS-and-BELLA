{
 "cells": [
  {
   "cell_type": "code",
   "execution_count": null,
   "id": "a2c48347-ead1-4032-936c-465328c71586",
   "metadata": {},
   "outputs": [],
   "source": [
    "#v1\n",
    "\"\"\"\n",
    "A simple test of Ray translated to Dask\n",
    "\"\"\"\n",
    "\n",
    "import os\n",
    "import platform\n",
    "import dask\n",
    "import time\n",
    "from dask.distributed import Client\n",
    "\n",
    "class Actor():\n",
    "    def __init__(self) -> None:        \n",
    "        self.pid = os.getpid()\n",
    "        self.hostname = platform.node()\n",
    "#         self.ip = scheduler_info['address']\n",
    "\n",
    "    def ping(self):\n",
    "        \n",
    "        print(f\"{self.pid} {self.hostname} - ping\")\n",
    "        time.sleep(1)\n",
    "        return f\"{self.pid} {self.hostname}- pong\"\n",
    "\n",
    "def main():\n",
    "   \n",
    "    # Get list of nodes to use\n",
    "    print(f\"Found {len(actors)} Worker nodes in the Dask Client:\")\n",
    "\n",
    "    # Setup one Actor per node\n",
    "    print(f\"Setting up {len(actors)} Workers...\")\n",
    "\n",
    "    # Ping-Pong test\n",
    "    for _ in range(2):\n",
    "        for a in actors:\n",
    "            messages = a.ping().result()\n",
    "            time.sleep(1)\n",
    "            print(f\"Received back message {messages} \\n\")\n",
    "\n",
    "            \n",
    "client = Client()\n",
    "print(\"actor \\n\",client)\n",
    "\n",
    "# Start some tasks that use the actor.\n",
    "actors = [client.submit(Actor, actors=True).result() for _ in range(3)]\n",
    "print(\"\\n workers \\n\",actors)\n",
    "\n",
    "# scheduler_info = client.scheduler_info()\n",
    "# scheduler_info\n",
    "\n",
    "if __name__ == \"__main__\":\n",
    "    main()"
   ]
  },
  {
   "cell_type": "code",
   "execution_count": null,
   "id": "736d4e72-7e34-408b-8504-0fe3d67d3414",
   "metadata": {},
   "outputs": [],
   "source": []
  },
  {
   "cell_type": "code",
   "execution_count": null,
   "id": "28c6acf3-416f-4e4e-a8f4-e0a729c4fcc4",
   "metadata": {},
   "outputs": [],
   "source": []
  }
 ],
 "metadata": {
  "kernelspec": {
   "display_name": "Python 3",
   "language": "python",
   "name": "python3"
  },
  "language_info": {
   "codemirror_mode": {
    "name": "ipython",
    "version": 3
   },
   "file_extension": ".py",
   "mimetype": "text/x-python",
   "name": "python",
   "nbconvert_exporter": "python",
   "pygments_lexer": "ipython3",
   "version": "3.7.0"
  }
 },
 "nbformat": 4,
 "nbformat_minor": 5
}
