{
 "cells": [
  {
   "cell_type": "code",
   "execution_count": 4,
   "id": "edd330f2-d624-430a-bb75-5af3bae06fea",
   "metadata": {},
   "outputs": [
    {
     "name": "stderr",
     "output_type": "stream",
     "text": [
      "2021-06-29 23:09:39,024\tINFO worker.py:744 -- Calling ray.init() again after it has already been called.\n"
     ]
    },
    {
     "name": "stdout",
     "output_type": "stream",
     "text": [
      "[Actor(Actor,23a1660ae3449ac07afd5d2001000000), Actor(Actor,1883edfa98cb2b8cdb680e9301000000), Actor(Actor,675dfd47a3b45c054c6f9db701000000), Actor(Actor,fe41116e06eabe42c31c93ff01000000), Actor(Actor,20751d0781968429aa80822701000000)]\n"
     ]
    },
    {
     "name": "stderr",
     "output_type": "stream",
     "text": [
      "2021-06-29 23:09:42,309\tWARNING worker.py:1121 -- WARNING: 25 PYTHON workers have been started on a node of the id: 8340bfa510385d3839d7ae2b238327d13077cddfd5ba28e8e670d35f and address: 192.168.0.139. This could be a result of using a large number of actors, or it could be a consequence of using nested tasks (see https://github.com/ray-project/ray/issues/3644) for some a discussion of workarounds.\n"
     ]
    },
    {
     "name": "stdout",
     "output_type": "stream",
     "text": [
      "\u001b[2m\u001b[36m(pid=4157)\u001b[0m Found 5 Worker nodes in the Ray Cluster:\n",
      "\u001b[2m\u001b[36m(pid=4157)\u001b[0m Setting up 5 Actors...\n"
     ]
    },
    {
     "name": "stderr",
     "output_type": "stream",
     "text": [
      "2021-06-29 23:09:46,727\tWARNING worker.py:1121 -- WARNING: 28 PYTHON workers have been started on a node of the id: 8340bfa510385d3839d7ae2b238327d13077cddfd5ba28e8e670d35f and address: 192.168.0.139. This could be a result of using a large number of actors, or it could be a consequence of using nested tasks (see https://github.com/ray-project/ray/issues/3644) for some a discussion of workarounds.\n"
     ]
    },
    {
     "name": "stdout",
     "output_type": "stream",
     "text": [
      "\u001b[2m\u001b[36m(pid=3739)\u001b[0m 3739 Anthonys-MacBook-Air.local 192.168.0.139 - ping\n",
      "\u001b[2m\u001b[36m(pid=3755)\u001b[0m 3755 Anthonys-MacBook-Air.local 192.168.0.139 - ping\n",
      "\u001b[2m\u001b[36m(pid=4158)\u001b[0m 4158 Anthonys-MacBook-Air.local 192.168.0.139 - ping\n",
      "\u001b[2m\u001b[36m(pid=4159)\u001b[0m 4159 Anthonys-MacBook-Air.local 192.168.0.139 - ping\n",
      "\u001b[2m\u001b[36m(pid=4160)\u001b[0m 4160 Anthonys-MacBook-Air.local 192.168.0.139 - ping\n",
      "\u001b[2m\u001b[36m(pid=4157)\u001b[0m Received back message 3755 Anthonys-MacBook-Air.local 192.168.0.139 - pong\n",
      "\u001b[2m\u001b[36m(pid=4157)\u001b[0m Received back message 3739 Anthonys-MacBook-Air.local 192.168.0.139 - pong\n",
      "\u001b[2m\u001b[36m(pid=4157)\u001b[0m Received back message 4158 Anthonys-MacBook-Air.local 192.168.0.139 - pong\n",
      "\u001b[2m\u001b[36m(pid=4157)\u001b[0m Received back message 4159 Anthonys-MacBook-Air.local 192.168.0.139 - pong\n",
      "\u001b[2m\u001b[36m(pid=4157)\u001b[0m Received back message 4160 Anthonys-MacBook-Air.local 192.168.0.139 - pong\n",
      "\u001b[2m\u001b[36m(pid=3739)\u001b[0m 3739 Anthonys-MacBook-Air.local 192.168.0.139 - ping\n",
      "\u001b[2m\u001b[36m(pid=3755)\u001b[0m 3755 Anthonys-MacBook-Air.local 192.168.0.139 - ping\n",
      "\u001b[2m\u001b[36m(pid=4158)\u001b[0m 4158 Anthonys-MacBook-Air.local 192.168.0.139 - ping\n",
      "\u001b[2m\u001b[36m(pid=4159)\u001b[0m 4159 Anthonys-MacBook-Air.local 192.168.0.139 - ping\n",
      "\u001b[2m\u001b[36m(pid=4160)\u001b[0m 4160 Anthonys-MacBook-Air.local 192.168.0.139 - ping\n",
      "\u001b[2m\u001b[36m(pid=4157)\u001b[0m Received back message 3755 Anthonys-MacBook-Air.local 192.168.0.139 - pong\n",
      "\u001b[2m\u001b[36m(pid=4157)\u001b[0m Received back message 3739 Anthonys-MacBook-Air.local 192.168.0.139 - pong\n",
      "\u001b[2m\u001b[36m(pid=4157)\u001b[0m Received back message 4158 Anthonys-MacBook-Air.local 192.168.0.139 - pong\n",
      "\u001b[2m\u001b[36m(pid=4157)\u001b[0m Received back message 4159 Anthonys-MacBook-Air.local 192.168.0.139 - pong\n",
      "\u001b[2m\u001b[36m(pid=4157)\u001b[0m Received back message 4160 Anthonys-MacBook-Air.local 192.168.0.139 - pong\n"
     ]
    }
   ],
   "source": [
    "#v1\n",
    "\"\"\"\n",
    "A simple test of Ray\n",
    "This example uses placement_group API to spread work around\n",
    "\"\"\"\n",
    "\n",
    "import os\n",
    "import platform\n",
    "import ray\n",
    "import time\n",
    "ray.init(ignore_reinit_error=True)\n",
    "\n",
    "@ray.remote\n",
    "class Actor():\n",
    "    def __init__(self) -> None:\n",
    "        self.pid = os.getpid()\n",
    "        self.hostname = platform.node()\n",
    "        self.ip = ray._private.services.get_node_ip_address()\n",
    "\n",
    "    def ping(self):\n",
    "        \n",
    "        print(f\"{self.pid} {self.hostname} {self.ip} - ping\")\n",
    "        time.sleep(1)\n",
    "        return f\"{self.pid} {self.hostname} {self.ip} - pong\"\n",
    "\n",
    "@ray.remote\n",
    "def main():\n",
    "   \n",
    "    # Get list of nodes to use\n",
    "    print(f\"Found {len(actors)} Worker nodes in the Ray Cluster:\")\n",
    "\n",
    "    # Setup one Actor per node\n",
    "    print(f\"Setting up {len(actors)} Actors...\")\n",
    "    actor = []\n",
    "    for a in actors:\n",
    "        node_ip_str = f\"node:{ray._private.services.get_node_ip_address()}\"\n",
    "        actor.append(Actor.remote())\n",
    "        time.sleep(1)\n",
    "\n",
    "    # Ping-Pong test\n",
    "    for _ in range(2):\n",
    "        messages = [a.ping.remote() for a in actors]\n",
    "        for msg in ray.get(messages):\n",
    "            time.sleep(1)\n",
    "            print(f\"Received back message {msg}\")\n",
    "            time.sleep(1)\n",
    "\n",
    "            \n",
    "actors = [Actor.remote() for _ in range(5)]\n",
    "print(actors)\n",
    "\n",
    "if __name__ == \"__main__\":\n",
    "    main.remote()"
   ]
  },
  {
   "cell_type": "code",
   "execution_count": 5,
   "id": "a4c1a945-603e-4167-89fd-7de3fb26ffc9",
   "metadata": {},
   "outputs": [
    {
     "name": "stderr",
     "output_type": "stream",
     "text": [
      "2021-06-29 23:10:17,205\tINFO worker.py:744 -- Calling ray.init() again after it has already been called.\n"
     ]
    },
    {
     "name": "stdout",
     "output_type": "stream",
     "text": [
      "[Actor(Actor,1e2c854ce3bcdd6ba2082c3b01000000), Actor(Actor,2e05997a004d0a7365a3ee8701000000), Actor(Actor,d8cc8e7eb509fa12f5f054c401000000), Actor(Actor,29a06ac0b1cf297b29c8ab6a01000000), Actor(Actor,4b541cb9daea3788b42555b901000000)]\n",
      "\u001b[2m\u001b[36m(pid=4201)\u001b[0m Found 5 Worker nodes in the Ray Cluster:\n",
      "\u001b[2m\u001b[36m(pid=4201)\u001b[0m Setting up 5 Actors...\n"
     ]
    },
    {
     "name": "stderr",
     "output_type": "stream",
     "text": [
      "2021-06-29 23:10:24,089\tWARNING worker.py:1121 -- WARNING: 33 PYTHON workers have been started on a node of the id: 8340bfa510385d3839d7ae2b238327d13077cddfd5ba28e8e670d35f and address: 192.168.0.139. This could be a result of using a large number of actors, or it could be a consequence of using nested tasks (see https://github.com/ray-project/ray/issues/3644) for some a discussion of workarounds.\n"
     ]
    },
    {
     "name": "stdout",
     "output_type": "stream",
     "text": [
      "\u001b[2m\u001b[36m(pid=4185)\u001b[0m 4185 Anthonys-MacBook-Air.local 192.168.0.139 - ping\n",
      "\u001b[2m\u001b[36m(pid=4201)\u001b[0m Received back message 4185 Anthonys-MacBook-Air.local 192.168.0.139 - pong \n",
      "\u001b[2m\u001b[36m(pid=4201)\u001b[0m \n",
      "\u001b[2m\u001b[36m(pid=4190)\u001b[0m 4190 Anthonys-MacBook-Air.local 192.168.0.139 - ping\n",
      "\u001b[2m\u001b[36m(pid=4201)\u001b[0m Received back message 4190 Anthonys-MacBook-Air.local 192.168.0.139 - pong \n",
      "\u001b[2m\u001b[36m(pid=4201)\u001b[0m \n",
      "\u001b[2m\u001b[36m(pid=4157)\u001b[0m 4157 Anthonys-MacBook-Air.local 192.168.0.139 - ping\n",
      "\u001b[2m\u001b[36m(pid=4201)\u001b[0m Received back message 4157 Anthonys-MacBook-Air.local 192.168.0.139 - pong \n",
      "\u001b[2m\u001b[36m(pid=4201)\u001b[0m \n",
      "\u001b[2m\u001b[36m(pid=4202)\u001b[0m 4202 Anthonys-MacBook-Air.local 192.168.0.139 - ping\n",
      "\u001b[2m\u001b[36m(pid=4201)\u001b[0m Received back message 4202 Anthonys-MacBook-Air.local 192.168.0.139 - pong \n",
      "\u001b[2m\u001b[36m(pid=4201)\u001b[0m \n",
      "\u001b[2m\u001b[36m(pid=4199)\u001b[0m 4199 Anthonys-MacBook-Air.local 192.168.0.139 - ping\n",
      "\u001b[2m\u001b[36m(pid=4201)\u001b[0m Received back message 4199 Anthonys-MacBook-Air.local 192.168.0.139 - pong \n",
      "\u001b[2m\u001b[36m(pid=4201)\u001b[0m \n",
      "\u001b[2m\u001b[36m(pid=4185)\u001b[0m 4185 Anthonys-MacBook-Air.local 192.168.0.139 - ping\n",
      "\u001b[2m\u001b[36m(pid=4201)\u001b[0m Received back message 4185 Anthonys-MacBook-Air.local 192.168.0.139 - pong \n",
      "\u001b[2m\u001b[36m(pid=4201)\u001b[0m \n",
      "\u001b[2m\u001b[36m(pid=4190)\u001b[0m 4190 Anthonys-MacBook-Air.local 192.168.0.139 - ping\n",
      "\u001b[2m\u001b[36m(pid=4201)\u001b[0m Received back message 4190 Anthonys-MacBook-Air.local 192.168.0.139 - pong \n",
      "\u001b[2m\u001b[36m(pid=4201)\u001b[0m \n",
      "\u001b[2m\u001b[36m(pid=4157)\u001b[0m 4157 Anthonys-MacBook-Air.local 192.168.0.139 - ping\n",
      "\u001b[2m\u001b[36m(pid=4201)\u001b[0m Received back message 4157 Anthonys-MacBook-Air.local 192.168.0.139 - pong \n",
      "\u001b[2m\u001b[36m(pid=4201)\u001b[0m \n",
      "\u001b[2m\u001b[36m(pid=4202)\u001b[0m 4202 Anthonys-MacBook-Air.local 192.168.0.139 - ping\n",
      "\u001b[2m\u001b[36m(pid=4201)\u001b[0m Received back message 4202 Anthonys-MacBook-Air.local 192.168.0.139 - pong \n",
      "\u001b[2m\u001b[36m(pid=4201)\u001b[0m \n",
      "\u001b[2m\u001b[36m(pid=4199)\u001b[0m 4199 Anthonys-MacBook-Air.local 192.168.0.139 - ping\n",
      "\u001b[2m\u001b[36m(pid=4201)\u001b[0m Received back message 4199 Anthonys-MacBook-Air.local 192.168.0.139 - pong \n",
      "\u001b[2m\u001b[36m(pid=4201)\u001b[0m \n"
     ]
    }
   ],
   "source": [
    "#v2\n",
    "\"\"\"\n",
    "A simple test of Ray\n",
    "This example uses placement_group API to spread work around\n",
    "\"\"\"\n",
    "\n",
    "import os\n",
    "import platform\n",
    "import ray\n",
    "import time\n",
    "ray.init(ignore_reinit_error=True)\n",
    "\n",
    "@ray.remote\n",
    "class Actor():\n",
    "    def __init__(self) -> None:\n",
    "        self.pid = os.getpid()\n",
    "        self.hostname = platform.node()\n",
    "        self.ip = ray._private.services.get_node_ip_address()\n",
    "\n",
    "    def ping(self):\n",
    "        \n",
    "        print(f\"{self.pid} {self.hostname} {self.ip} - ping\")\n",
    "        time.sleep(1)\n",
    "        return f\"{self.pid} {self.hostname} {self.ip} - pong\"\n",
    "\n",
    "@ray.remote\n",
    "def main():\n",
    "   \n",
    "    # Get list of nodes to use\n",
    "    print(f\"Found {len(actors)} Worker nodes in the Ray Cluster:\")\n",
    "\n",
    "    # Setup one Actor per node\n",
    "    print(f\"Setting up {len(actors)} Actors...\")\n",
    "    actor = []\n",
    "    for a in actors:\n",
    "        node_ip_str = f\"node:{ray._private.services.get_node_ip_address()}\"\n",
    "        actor.append(Actor.remote())\n",
    "        time.sleep(1)\n",
    "\n",
    "    # Ping-Pong test\n",
    "    for _ in range(2):\n",
    "        for a in actors:\n",
    "            time.sleep(1)\n",
    "            messages = a.ping.remote()\n",
    "            time.sleep(1)\n",
    "            print(f\"Received back message {ray.get(messages)} \\n\")\n",
    "        \n",
    "\n",
    "            \n",
    "actors = [Actor.remote() for _ in range(5)]\n",
    "print(actors)\n",
    "\n",
    "if __name__ == \"__main__\":\n",
    "    main.remote()"
   ]
  },
  {
   "cell_type": "code",
   "execution_count": null,
   "id": "65c11d4d-365d-4284-9e5a-64c139bd2db9",
   "metadata": {},
   "outputs": [],
   "source": []
  }
 ],
 "metadata": {
  "kernelspec": {
   "display_name": "Python 3",
   "language": "python",
   "name": "python3"
  },
  "language_info": {
   "codemirror_mode": {
    "name": "ipython",
    "version": 3
   },
   "file_extension": ".py",
   "mimetype": "text/x-python",
   "name": "python",
   "nbconvert_exporter": "python",
   "pygments_lexer": "ipython3",
   "version": "3.7.0"
  }
 },
 "nbformat": 4,
 "nbformat_minor": 5
}
