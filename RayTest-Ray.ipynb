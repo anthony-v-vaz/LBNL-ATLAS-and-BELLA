{
 "cells": [
  {
   "cell_type": "code",
   "execution_count": null,
   "id": "edd330f2-d624-430a-bb75-5af3bae06fea",
   "metadata": {},
   "outputs": [],
   "source": [
    "\"\"\"\n",
    "A simple test of Ray\n",
    "This example uses placement_group API to spread work around\n",
    "\"\"\"\n",
    "\n",
    "import os\n",
    "import platform\n",
    "import ray\n",
    "import time\n",
    "ray.init(ignore_reinit_error=True)\n",
    "\n",
    "@ray.remote\n",
    "class Actor():\n",
    "    def __init__(self) -> None:\n",
    "        self.pid = os.getpid()\n",
    "        self.hostname = platform.node()\n",
    "        self.ip = ray._private.services.get_node_ip_address()\n",
    "\n",
    "    def ping(self):\n",
    "        \n",
    "        print(f\"{self.pid} {self.hostname} {self.ip} - ping\")\n",
    "        time.sleep(1)\n",
    "        return f\"{self.pid} {self.hostname} {self.ip} - pong\"\n",
    "\n",
    "@ray.remote\n",
    "def main():\n",
    "   \n",
    "    # Get list of nodes to use\n",
    "    print(f\"Found {len(actors)} Worker nodes in the Ray Cluster:\")\n",
    "\n",
    "    # Setup one Actor per node\n",
    "    print(f\"Setting up {len(actors)} Actors...\")\n",
    "    actor = []\n",
    "    for a in actors:\n",
    "        node_ip_str = f\"node:{ray._private.services.get_node_ip_address()}\"\n",
    "        actor.append(Actor.remote())\n",
    "        time.sleep(1)\n",
    "\n",
    "    # Ping-Pong test\n",
    "    for _ in range(2):\n",
    "        messages = [a.ping.remote() for a in actors]\n",
    "        for msg in ray.get(messages):\n",
    "            time.sleep(1)\n",
    "            print(f\"Received back message {msg}\")\n",
    "            time.sleep(1)\n",
    "\n",
    "            \n",
    "actors = [Actor.remote() for _ in range(5)]\n",
    "print(actors)\n",
    "\n",
    "if __name__ == \"__main__\":\n",
    "    main.remote()"
   ]
  },
  {
   "cell_type": "code",
   "execution_count": null,
   "id": "a4c1a945-603e-4167-89fd-7de3fb26ffc9",
   "metadata": {},
   "outputs": [],
   "source": []
  },
  {
   "cell_type": "code",
   "execution_count": null,
   "id": "65c11d4d-365d-4284-9e5a-64c139bd2db9",
   "metadata": {},
   "outputs": [],
   "source": []
  }
 ],
 "metadata": {
  "kernelspec": {
   "display_name": "Python 3",
   "language": "python",
   "name": "python3"
  },
  "language_info": {
   "codemirror_mode": {
    "name": "ipython",
    "version": 3
   },
   "file_extension": ".py",
   "mimetype": "text/x-python",
   "name": "python",
   "nbconvert_exporter": "python",
   "pygments_lexer": "ipython3",
   "version": "3.7.0"
  }
 },
 "nbformat": 4,
 "nbformat_minor": 5
}
