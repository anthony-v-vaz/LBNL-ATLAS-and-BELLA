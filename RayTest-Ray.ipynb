{
 "cells": [
  {
   "cell_type": "code",
   "execution_count": 1,
   "id": "edd330f2-d624-430a-bb75-5af3bae06fea",
   "metadata": {},
   "outputs": [
    {
     "name": "stderr",
     "output_type": "stream",
     "text": [
      "2021-06-29 21:30:22,285\tINFO services.py:1317 -- View the Ray dashboard at \u001b[1m\u001b[32mhttp://127.0.0.1:8272\u001b[39m\u001b[22m\n"
     ]
    },
    {
     "name": "stdout",
     "output_type": "stream",
     "text": [
      "[Actor(Actor,8935859c430befc29f4d5eea01000000), Actor(Actor,5b638c802999d4c482bc9c6501000000)]\n",
      "\u001b[2m\u001b[36m(pid=12776)\u001b[0m Found 2 Worker nodes in the Ray Cluster:\n",
      "\u001b[2m\u001b[36m(pid=12776)\u001b[0m Setting up 2 Actors...\n",
      "\u001b[2m\u001b[36m(pid=12775)\u001b[0m 12775 Anthonys-MacBook-Air.local 192.168.0.139 - ping\n",
      "\u001b[2m\u001b[36m(pid=12778)\u001b[0m 12778 Anthonys-MacBook-Air.local 192.168.0.139 - ping\n"
     ]
    },
    {
     "name": "stderr",
     "output_type": "stream",
     "text": [
      "2021-06-29 21:30:35,920\tERROR worker.py:79 -- Unhandled error (suppress with RAY_IGNORE_UNHANDLED_ERRORS=1): \u001b[36mray::main()\u001b[39m (pid=12776, ip=192.168.0.139)\n",
      "  File \"python/ray/_raylet.pyx\", line 535, in ray._raylet.execute_task\n",
      "  File \"/Users/smanthony/opt/anaconda3/lib/python3.7/site-packages/ray/util/tracing/tracing_helper.py\", line 330, in _function_with_tracing\n",
      "    return function(*args, **kwargs)\n",
      "  File \"<ipython-input-1-1a7d26a0607a>\", line 42, in main\n",
      "  File \"/Users/smanthony/opt/anaconda3/lib/python3.7/site-packages/ray/_private/client_mode_hook.py\", line 62, in wrapper\n",
      "    return func(*args, **kwargs)\n",
      "TypeError: wait() expected a list of ray.ObjectRef, got list containing <class 'list'>\n"
     ]
    }
   ],
   "source": [
    "\"\"\"\n",
    "A simple test of Ray\n",
    "This example uses placement_group API to spread work around\n",
    "\"\"\"\n",
    "\n",
    "import os\n",
    "import platform\n",
    "import ray\n",
    "import time\n",
    "ray.init(ignore_reinit_error=True)\n",
    "\n",
    "@ray.remote\n",
    "class Actor():\n",
    "    def __init__(self) -> None:\n",
    "        self.pid = os.getpid()\n",
    "        self.hostname = platform.node()\n",
    "        self.ip = ray._private.services.get_node_ip_address()\n",
    "\n",
    "    def ping(self):\n",
    "        \n",
    "        print(f\"{self.pid} {self.hostname} {self.ip} - ping\")\n",
    "        time.sleep(1)\n",
    "        return f\"{self.pid} {self.hostname} {self.ip} - pong\"\n",
    "\n",
    "@ray.remote\n",
    "def main():\n",
    "   \n",
    "    # Get list of nodes to use\n",
    "    print(f\"Found {len(actors)} Worker nodes in the Ray Cluster:\")\n",
    "\n",
    "    # Setup one Actor per node\n",
    "    print(f\"Setting up {len(actors)} Actors...\")\n",
    "    actor = []\n",
    "    for a in actors:\n",
    "        node_ip_str = f\"node:{ray._private.services.get_node_ip_address()}\"\n",
    "        actor.append(Actor.remote())\n",
    "        time.sleep(1)\n",
    "\n",
    "    # Ping-Pong test\n",
    "    for _ in range(2):\n",
    "        messages = [a.ping.remote() for a in actors]\n",
    "        for msg in ray.get(messages):\n",
    "            time.sleep(1)\n",
    "            print(f\"Received back message {msg}\")\n",
    "            time.sleep(1)\n",
    "\n",
    "            \n",
    "actors = [Actor.remote() for _ in range(2)]\n",
    "print(actors)\n",
    "\n",
    "if __name__ == \"__main__\":\n",
    "    main.remote()"
   ]
  },
  {
   "cell_type": "code",
   "execution_count": null,
   "id": "53c64c80-2917-4227-911b-15dc46a1b678",
   "metadata": {},
   "outputs": [],
   "source": [
    "# The original code used the resources option in Ray \n",
    "# to allocate one Actor per node. It makes sense that you can't cr\n",
    "# eate multiple actors in the same way in a notebook because you onl\n",
    "# y have one available node. You could try removing the resources option i\n",
    "# n the 'actor.append(Actor.options(resources={f\"{node_ip_str}\": 1}).remote())' line \n",
    "# and see if that solves it, i.e. just change it to 'Actor.remote()'."
   ]
  }
 ],
 "metadata": {
  "kernelspec": {
   "display_name": "Python 3",
   "language": "python",
   "name": "python3"
  },
  "language_info": {
   "codemirror_mode": {
    "name": "ipython",
    "version": 3
   },
   "file_extension": ".py",
   "mimetype": "text/x-python",
   "name": "python",
   "nbconvert_exporter": "python",
   "pygments_lexer": "ipython3",
   "version": "3.7.0"
  }
 },
 "nbformat": 4,
 "nbformat_minor": 5
}
