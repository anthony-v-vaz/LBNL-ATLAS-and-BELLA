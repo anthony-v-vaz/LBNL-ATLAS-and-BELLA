{
 "cells": [
  {
   "cell_type": "code",
   "execution_count": 14,
   "id": "5b0deec0-a129-426f-91ec-6cb6eb59cb92",
   "metadata": {},
   "outputs": [
    {
     "name": "stdout",
     "output_type": "stream",
     "text": [
      "this is the actor identity \n",
      " Actor(Counter,2762ccfcfbde749d0963c27201000000)\n",
      "\n",
      " This prints the ID of workers \n",
      "\n",
      " [ObjectRef(7513710212de102affffffffffffffffffffffff0100000001000000), ObjectRef(eb7cccec83cc166cffffffffffffffffffffffff0100000001000000), ObjectRef(21711c35be2858f6ffffffffffffffffffffffff0100000001000000)]\n",
      "12\n"
     ]
    }
   ],
   "source": [
    "import ray\n",
    "import time\n",
    "#ray.init()\n",
    "@ray.remote\n",
    "class Counter(object):\n",
    "    def __init__(self):\n",
    "        self.value = 0\n",
    "\n",
    "    def increment(self):\n",
    "        time.sleep(1)\n",
    "        self.value += 1\n",
    "        return self.value\n",
    "\n",
    "    def get_counter(self):\n",
    "        return self.value\n",
    "    \n",
    "@ray.remote\n",
    "def f(counter):\n",
    "    _ = [counter.increment.remote() for _ in range(4)]\n",
    "\n",
    "        \n",
    "        \n",
    "counter = Counter.remote()\n",
    "print(\"this is the actor identity \\n\",counter)\n",
    "\n",
    "# Start some tasks that use the actor.\n",
    "y = [f.remote(counter) for _ in range(3)]\n",
    "print(\"\\n This prints the ID of workers \\n\\n\",y)\n",
    "\n",
    "\n",
    "# Print the counter value.\n",
    "#the program needs three seconds to compute before printing the result\n",
    "time.sleep(3)\n",
    "print(ray.get(counter.get_counter.remote()))"
   ]
  },
  {
   "cell_type": "code",
   "execution_count": 15,
   "id": "268d76c9-254c-48e3-9290-a45d52fc2421",
   "metadata": {},
   "outputs": [
    {
     "name": "stderr",
     "output_type": "stream",
     "text": [
      "/Users/smanthony/opt/anaconda3/lib/python3.7/site-packages/distributed/node.py:155: UserWarning: Port 8787 is already in use.\n",
      "Perhaps you already have a cluster running?\n",
      "Hosting the HTTP server on port 54019 instead\n",
      "  http_address[\"port\"], self.http_server.port\n"
     ]
    },
    {
     "name": "stdout",
     "output_type": "stream",
     "text": [
      "actor \n",
      " <Client: 'tcp://127.0.0.1:54020' processes=4 threads=4, memory=8.00 GiB>\n",
      "\n",
      " workers  [<Actor: Counter, key=Counter-2e86e1a6-a097-44b7-93ed-86ff8076d750>, <Actor: Counter, key=Counter-43470d4e-2d4d-4972-bc00-4c655e1c502b>, <Actor: Counter, key=Counter-330fdc1b-057f-4c74-9a0a-00be75ceec30>]\n",
      "\n",
      " results [None, None, None]\n",
      "[<Actor: Counter, key=Counter-2e86e1a6-a097-44b7-93ed-86ff8076d750>, <Actor: Counter, key=Counter-43470d4e-2d4d-4972-bc00-4c655e1c502b>, <Actor: Counter, key=Counter-330fdc1b-057f-4c74-9a0a-00be75ceec30>]\n",
      "\n",
      " this prints get_counter from increment \n",
      "\n",
      "\n",
      " This prints result from each worker \n",
      " [4, 4, 4]\n"
     ]
    }
   ],
   "source": [
    "import time\n",
    "import dask\n",
    "\n",
    "class Counter(object):\n",
    "    def __init__(self):\n",
    "        self.value = 0\n",
    "\n",
    "    def increment(self):\n",
    "        time.sleep(1)\n",
    "        self.value += 1\n",
    "        return self.value\n",
    "\n",
    "    def get_counter(self):\n",
    "        return self.value\n",
    "    \n",
    "    \n",
    "    \n",
    "def f(counter):\n",
    "    _ = [counter.increment().result() for _ in range(4)]\n",
    "\n",
    "\n",
    "from dask.distributed import Client\n",
    "\n",
    "client = Client()\n",
    "print(\"actor \\n\",client)\n",
    "\n",
    "# Start some tasks that use the actor.\n",
    "alist = [client.submit(Counter, actor=True).result() for _ in range(3)]\n",
    "print(\"\\n workers \",alist)\n",
    "\n",
    "results = [f(a) for a in alist]\n",
    "print(\"\\n results\", results)\n",
    "print(alist)\n",
    "print(\"\\n this prints get_counter from increment \\n\")\n",
    "print(\"\\n This prints result from each worker \\n\",list(a.get_counter().result() for a in alist))\n",
    "    \n",
    "    "
   ]
  },
  {
   "cell_type": "code",
   "execution_count": null,
   "id": "340f04b4-5deb-404c-a85a-b5bb0a0f73de",
   "metadata": {},
   "outputs": [],
   "source": []
  }
 ],
 "metadata": {
  "kernelspec": {
   "display_name": "Python 3",
   "language": "python",
   "name": "python3"
  },
  "language_info": {
   "codemirror_mode": {
    "name": "ipython",
    "version": 3
   },
   "file_extension": ".py",
   "mimetype": "text/x-python",
   "name": "python",
   "nbconvert_exporter": "python",
   "pygments_lexer": "ipython3",
   "version": "3.7.0"
  }
 },
 "nbformat": 4,
 "nbformat_minor": 5
}
